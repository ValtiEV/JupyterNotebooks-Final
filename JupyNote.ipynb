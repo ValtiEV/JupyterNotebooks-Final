{
 "cells": [
  {
   "cell_type": "markdown",
   "id": "ad482e69",
   "metadata": {},
   "source": [
    "# Data Science Tools and Ecosystems #"
   ]
  },
  {
   "cell_type": "markdown",
   "id": "76d55638",
   "metadata": {},
   "source": [
    "In this notebook, Data Science Tools and Ecosystems are summarized. "
   ]
  },
  {
   "cell_type": "markdown",
   "id": "b358acc9",
   "metadata": {},
   "source": [
    "Some of the popular languages that Data Scientists use are:"
   ]
  },
  {
   "cell_type": "markdown",
   "id": "001bb4d2",
   "metadata": {},
   "source": [
    "1. Python\n",
    "2. C++\n",
    "3. R"
   ]
  },
  {
   "cell_type": "markdown",
   "id": "3c7bdd5a",
   "metadata": {},
   "source": [
    "Some of the commonly used libraries used by data scientists: "
   ]
  },
  {
   "cell_type": "markdown",
   "id": "29c12c78",
   "metadata": {},
   "source": [
    "1. Matplotlib\n",
    "2. PyTorch\n",
    "3. NumPy"
   ]
  },
  {
   "cell_type": "markdown",
   "id": "3d4abb58",
   "metadata": {},
   "source": [
    "| Data Science Tools |\n",
    "----\n",
    "| Hadoop |\n",
    "| Apache Spark |\n",
    "| TensorFlow | "
   ]
  },
  {
   "cell_type": "markdown",
   "id": "6d322c13",
   "metadata": {},
   "source": [
    "### Below are a few examples of evaluating arithmetic expressions in python  ###"
   ]
  },
  {
   "cell_type": "code",
   "execution_count": 1,
   "id": "6848b640",
   "metadata": {},
   "outputs": [
    {
     "data": {
      "text/plain": [
       "17"
      ]
     },
     "execution_count": 1,
     "metadata": {},
     "output_type": "execute_result"
    }
   ],
   "source": [
    "# This is a simple arithmetic expression to multiply then add integers \n",
    "(3*4)+5"
   ]
  },
  {
   "cell_type": "code",
   "execution_count": 2,
   "id": "8d9e7fc9",
   "metadata": {},
   "outputs": [
    {
     "name": "stdout",
     "output_type": "stream",
     "text": [
      "3.3333333333333335\n"
     ]
    }
   ],
   "source": [
    "# This will convert 200 minutes to hours by diving by 60\n",
    "result=200/60\n",
    "print(result)"
   ]
  },
  {
   "cell_type": "markdown",
   "id": "7732e7b6",
   "metadata": {},
   "source": [
    "**Objectives:**\n",
    "- Python\n",
    "- Scala\n",
    "- SQL"
   ]
  },
  {
   "cell_type": "markdown",
   "id": "fe97e5cb",
   "metadata": {},
   "source": [
    "## Author ##\n",
    "Elias V. "
   ]
  }
 ],
 "metadata": {
  "kernelspec": {
   "display_name": "Python 3 (ipykernel)",
   "language": "python",
   "name": "python3"
  },
  "language_info": {
   "codemirror_mode": {
    "name": "ipython",
    "version": 3
   },
   "file_extension": ".py",
   "mimetype": "text/x-python",
   "name": "python",
   "nbconvert_exporter": "python",
   "pygments_lexer": "ipython3",
   "version": "3.11.7"
  }
 },
 "nbformat": 4,
 "nbformat_minor": 5
}
